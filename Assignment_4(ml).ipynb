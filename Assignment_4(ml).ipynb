{
 "cells": [
  {
   "cell_type": "markdown",
   "metadata": {},
   "source": [
    "#### 1. What are the key tasks involved in getting ready to work with machine learning modeling?"
   ]
  },
  {
   "cell_type": "code",
   "execution_count": null,
   "metadata": {},
   "outputs": [],
   "source": [
    "Ans:\n",
    "1 - Data Collection.\n",
    "2 - Data Preparation.\n",
    "3 - Choose a Model.\n",
    "4 - Train the Model.\n",
    "5 - Evaluate the Model.\n",
    "6 - Parameter Tuning.\n",
    "7 - Make Predictions."
   ]
  },
  {
   "cell_type": "markdown",
   "metadata": {},
   "source": [
    "#### 2. What are the different forms of data used in machine learning? Give a specific example for each of them."
   ]
  },
  {
   "cell_type": "code",
   "execution_count": null,
   "metadata": {},
   "outputs": [],
   "source": [
    "Ans:\n",
    "1. Numerical Data: example--> values like 10, 25, or 33.\n",
    "    \n",
    "2. Categorical Data: example--> something like if a person is a man or woman, or property is residential or commercial.\n",
    "    \n",
    "3. Time Series Data: example-->For example, we might measure the average number of home sales for many years.\n",
    "    \n",
    "4. Text Data: example-->Text data is basically just words. A lot of the time the first thing that you do with text is you turn it into numbers using some interesting functions like the bag of words formulation."
   ]
  },
  {
   "cell_type": "markdown",
   "metadata": {},
   "source": [
    "#### 3. Distinguish:\n",
    "\n",
    "#### 1. Numeric vs. categorical attributes\n",
    "\n",
    "#### 2. Feature selection vs. dimensionality reduction"
   ]
  },
  {
   "cell_type": "code",
   "execution_count": null,
   "metadata": {},
   "outputs": [],
   "source": [
    "Ans:\n",
    "    \n",
    "1.Numeric vs. categorical attributes:\n",
    "    \n",
    "Categorical data is a type of data that is used to group information with similar characteristics while Numerical data is a type of data that expresses information in the form of numbers. \n",
    "We transform categorical data into numeric data using label encoder.\n",
    "\n",
    "2. Feature selection vs. dimensionality reduction:\n",
    "    \n",
    "Feature selection is simply selecting and excluding given features without changing them.\n",
    "Dimensionality reduction transforms features into a lower dimension."
   ]
  },
  {
   "cell_type": "markdown",
   "metadata": {},
   "source": [
    "#### 4. Make quick notes on any two of the following:\n",
    "\n",
    "#### 1. The histogram\n",
    "\n",
    "#### 2. Use a scatter plot\n",
    "\n",
    "#### 3.PCA (Personal Computer Aid)"
   ]
  },
  {
   "cell_type": "code",
   "execution_count": null,
   "metadata": {},
   "outputs": [],
   "source": [
    "Ans:\n",
    "    \n",
    "1.The historgram:\n",
    "    A histogram is a graphical display of data using bars of different heights. In a histogram, each bar groups numbers into ranges.\n",
    "    Taller bars show that more data falls in that range.\n",
    "    A histogram displays the shape and spread of continuous sample data.\n",
    "    \n",
    "2.scatter plot:\n",
    "    A scatter plot is a chart type that is normally used to observe and visually display the relationship between variables using dot. \n",
    "    It is also known as a scattergram, scatter graph, or scatter chart."
   ]
  },
  {
   "cell_type": "markdown",
   "metadata": {},
   "source": [
    "#### 5. Why is it necessary to investigate data? Is there a discrepancy in how qualitative and quantitative data are explored?"
   ]
  },
  {
   "cell_type": "code",
   "execution_count": null,
   "metadata": {},
   "outputs": [],
   "source": [
    "Ans:\n",
    "\n",
    "---->data collection that a business or management has the quality information they need to make informed decisions from further analysis, study, and research.\n",
    "     data is very sensitive if we don't investigate data there are huge chance to be hacked by the hacker.\n",
    "\n",
    "---->Quantitative data can be counted, measured, and expressed using numbers. Qualitative data is descriptive and conceptual. \n",
    "     Qualitative data can be categorized based on traits and characteristics."
   ]
  },
  {
   "cell_type": "markdown",
   "metadata": {},
   "source": [
    "#### 6. What are the various histogram shapes? What exactly are ‘bins&#39;?"
   ]
  },
  {
   "cell_type": "code",
   "execution_count": null,
   "metadata": {},
   "outputs": [],
   "source": [
    "histogarm shapes:\n",
    "    \n",
    "1.Skewed Distribution.\n",
    "2.Double-Peaked or Bimodal.\n",
    "3.Plateau or Multimodal Distribution.\n",
    "4.Edge Peak Distribution.\n",
    "5.Comb Distribution.\n",
    "6.Truncated or Heart-Cut Distribution.\n",
    "7.Dog Food Distribution.\n",
    "\n",
    "bins:\n",
    "    A bin sometimes called a class interval is a way of sorting data in a histogram."
   ]
  },
  {
   "cell_type": "markdown",
   "metadata": {},
   "source": [
    "#### 7. How do we deal with data outliers?"
   ]
  },
  {
   "cell_type": "code",
   "execution_count": null,
   "metadata": {},
   "outputs": [],
   "source": [
    "Ans:\n",
    "    \n",
    "1.Set up a filter for outliers data.\n",
    "2.Remove or change outliers during post-test analysis.\n",
    "3.Change the value of outliers.\n",
    "4.Consider the underlying distribution.\n",
    "5.Consider the value of mild outliers."
   ]
  },
  {
   "cell_type": "markdown",
   "metadata": {},
   "source": [
    "#### 8. What are the various central inclination measures? Why does mean vary too much from median in certain data sets?"
   ]
  },
  {
   "cell_type": "code",
   "execution_count": null,
   "metadata": {},
   "outputs": [],
   "source": [
    "Ans:\n",
    "Measures of Central Tendency: Mean, Median, and Mode.\n",
    "    \n",
    "Unlike the mean, the median value doesn't depend on all the values in the dataset. \n",
    "Consequently, when some of the values are more extreme, the effect on the median is smaller. \n",
    "When you have a skewed distribution, the median is a better measure of central tendency than the mean."
   ]
  },
  {
   "cell_type": "markdown",
   "metadata": {},
   "source": [
    "#### 9. Describe how a scatter plot can be used to investigate bivariate relationships. Is it possible to find outliers using a scatter plot?"
   ]
  },
  {
   "cell_type": "code",
   "execution_count": null,
   "metadata": {},
   "outputs": [],
   "source": [
    "Ans:\n",
    "relationship:\n",
    "    \n",
    "Collect pairs of data where a relationship is suspected.\n",
    "Draw a graph with the independent variable on the horizontal axis and the dependent variable on the vertical axis.\n",
    "Look at the pattern of points to see if a relationship is obvious.\n",
    "Divide points on the graph into four quadrants.\n",
    " \n",
    "Is it possible to find outliers:\n",
    "    \n",
    "If there is a regression line on a scatter plot, you can identify outliers."
   ]
  },
  {
   "cell_type": "markdown",
   "metadata": {},
   "source": [
    "#### 10. Describe how cross-tabs can be used to figure out how two variables are related."
   ]
  },
  {
   "cell_type": "code",
   "execution_count": null,
   "metadata": {},
   "outputs": [],
   "source": [
    "Ans:\n",
    "    To describe the relationship between two categorical variables, we use a special type of table called a cross-tabulation (or \"crosstab\" for short). \n",
    "    In a cross-tabulation, the categories of one variable determine the rows of the table, and the categories of the other variable determine the columns. \n",
    "    The cells of the table contain the number of times that a particular combination of categories occurred. \n",
    "    The \"edges\" (or \"margins\") of the table typically contain the total number of observations for that category."
   ]
  }
 ],
 "metadata": {
  "kernelspec": {
   "display_name": "Python 3",
   "language": "python",
   "name": "python3"
  },
  "language_info": {
   "codemirror_mode": {
    "name": "ipython",
    "version": 3
   },
   "file_extension": ".py",
   "mimetype": "text/x-python",
   "name": "python",
   "nbconvert_exporter": "python",
   "pygments_lexer": "ipython3",
   "version": "3.8.5"
  }
 },
 "nbformat": 4,
 "nbformat_minor": 4
}
