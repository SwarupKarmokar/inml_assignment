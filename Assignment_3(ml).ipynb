{
 "cells": [
  {
   "cell_type": "markdown",
   "metadata": {},
   "source": [
    "#### 1.Explain the term machine learning, and how does it work? Explain two machine learning applications in the business world. What are some of the ethical concerns that machine learning applications could raise?"
   ]
  },
  {
   "cell_type": "code",
   "execution_count": null,
   "metadata": {},
   "outputs": [],
   "source": [
    "Ans:\n",
    "    machine learning: machine learning means teach our machine how to deal with real world raw data.\n",
    "    \n",
    "    rael world application:\n",
    "        1. Recommender system: YouTube is the good example of it... youtube recommend us content with our waching behavior.\n",
    "        2. Speach Recognition system: Google assistant is the example of it... its recognize our voice and shows the result.\n",
    "            \n",
    "    ethical concers:\n",
    "        1.ml application's decisions are not always intelligible to humans.\n",
    "        2.ml application-based decisions are susceptible to inaccuracies, discriminatory outcomes, embedded or inserted bias."
   ]
  },
  {
   "cell_type": "markdown",
   "metadata": {},
   "source": [
    "#### 2. Describe the process of human learning:\n",
    "#### i. Under the supervision of experts\n",
    "\n",
    "#### ii. With the assistance of experts in an indirect manner\n",
    "\n",
    "#### iii. Self-education"
   ]
  },
  {
   "cell_type": "code",
   "execution_count": null,
   "metadata": {},
   "outputs": [],
   "source": [
    "Ans:\n",
    "    i>under supervision:\n",
    "        Supervision is an accountable, two-way process, which supports, motivates and enables the development of good practice for individual social care workers.\n",
    "        \n",
    "    ii>inderect manner:\n",
    "        where we can learn from training and devoloping our skills.\n",
    "    \n",
    "    iii>self education:\n",
    "        self education means we learn from books e-learning seeing others techniques and practicing ourself."
   ]
  },
  {
   "cell_type": "markdown",
   "metadata": {},
   "source": [
    "#### 3. Provide a few examples of various types of machine learning."
   ]
  },
  {
   "cell_type": "code",
   "execution_count": null,
   "metadata": {},
   "outputs": [],
   "source": [
    "Ans:\n",
    "    Supervised Learning:\n",
    "        example: 1.predicting house price of area.\n",
    "                 2.iris flower classification.\n",
    "    \n",
    "    Unsupervised Learning:\n",
    "        example: 1.segmentation, or understanding different customer groups.\n",
    "                 2.clustering DNA patterns to analyze evolutionary biology.\n",
    "                \n",
    "    Reinforcement Learning:\n",
    "        example: 1.self driving car.\n",
    "                 2.NLP"
   ]
  },
  {
   "cell_type": "markdown",
   "metadata": {},
   "source": [
    "#### 4. Examine the various forms of machine learning."
   ]
  },
  {
   "cell_type": "code",
   "execution_count": null,
   "metadata": {},
   "outputs": [],
   "source": [
    "Ans:\n",
    "    supervised learning: in supervised learning we dealing with data where the input features and ouput label are known.\n",
    "        \n",
    "    unsupervised learning: in unsupervised learning we dealing with data where we know the input feature but we don't know the label of the data.\n",
    "        \n",
    "    reinforcement learning: Reinforcement learning is very behavior driven. It has influences from the fields of neuroscience and psychology."
   ]
  },
  {
   "cell_type": "markdown",
   "metadata": {},
   "source": [
    "#### 5. Can you explain what a well-posed learning problem is? Explain the main characteristics that must be present to identify a learning problem properly."
   ]
  },
  {
   "cell_type": "code",
   "execution_count": null,
   "metadata": {},
   "outputs": [],
   "source": [
    "Ans:\n",
    "    well-posed learning:\n",
    "        A (machine learning) problem is well-posed if a solution to it exists, \n",
    "        if that solution is unique, and if that solution depends on the data / experience but it is not sensitive to changes in the data / experience.\n",
    "        \n",
    "    characteristics:\n",
    "        Any problem can be segregated as well-posed learning problem if it has three traits – \n",
    "        1.Task\n",
    "        2.Performance Measure \n",
    "        3.Experience \n",
    "        \n",
    "        like:\n",
    "            examples that efficiently defines the well-posed learning problem are – \n",
    "\n",
    "            To better filter emails as spam or not:\n",
    "\n",
    "            Task – Classifying emails as spam or not\n",
    "            Performance Measure – The fraction of emails accurately classified as spam or not spam \n",
    "            Experience – Observing you label emails as spam or not spam "
   ]
  },
  {
   "cell_type": "markdown",
   "metadata": {},
   "source": [
    "#### 6. Is machine learning capable of solving all problems? Give a detailed explanation of your answer."
   ]
  },
  {
   "cell_type": "code",
   "execution_count": null,
   "metadata": {},
   "outputs": [],
   "source": [
    "Ans:\n",
    "    machine learning not capable of solving all problems....\n",
    "    because: machine learning models learns from data if any problem's data is not available in the form of machine learning data format how can a machine learning models solving the problems."
   ]
  },
  {
   "cell_type": "markdown",
   "metadata": {},
   "source": [
    "#### 7. What are the various methods and technologies for solving machine learning problems? Any two of them should be defined in detail."
   ]
  },
  {
   "cell_type": "code",
   "execution_count": null,
   "metadata": {},
   "outputs": [],
   "source": [
    "Ans:\n",
    "    technologies:\n",
    "        1.Regression\n",
    "        2.Classification\n",
    "        3.Clustering\n",
    "        4.Dimensionality Reduction\n",
    "        5.Ensemble Methods\n",
    "        6.Neural Nets and Deep Learning\n",
    "        7.Transfer Learning\n",
    "        8.Reinforcement Learning\n",
    "        9.Natural Language Processing\n",
    "        10.Word Embeddings\n",
    "        \n",
    "Natural Language Processing: Natural language processing helps computers communicate with humans in their own language and scales other language-related tasks. \n",
    "                             For example, NLP makes it possible for computers to read text, hear speech, interpret it, measure sentiment and determine which parts are important.\n",
    "        \n",
    "Deep Learning: Deep learning is the part of machine learning where we make the machine intelligence by creating actificial neural network "
   ]
  },
  {
   "cell_type": "markdown",
   "metadata": {},
   "source": [
    "#### 8. Can you explain the various forms of supervised learning? Explain each one with an example application."
   ]
  },
  {
   "cell_type": "code",
   "execution_count": null,
   "metadata": {},
   "outputs": [],
   "source": [
    "Ans:\n",
    "    \n",
    "Different Types of Supervised Learning:\n",
    "    \n",
    "1. Regression:\n",
    "    \n",
    "In regression, a single output value is produced using training data. \n",
    "This value is a probabilistic interpretation, which is ascertained after considering the strength of correlation among the input variables.\n",
    "For example, regression can help predict the price of a house based on its locality, size, etc. \n",
    "\n",
    "In logistic regression, the output has discrete values based on a set of independent variables. \n",
    "This method can flounder when dealing with non-linear and multiple decision boundaries. \n",
    "Also, it is not flexible enough to capture complex relationships in datasets. \n",
    "\n",
    "2. Classification:\n",
    "    \n",
    "It involves grouping the data into classes. \n",
    "If you are thinking of extending credit to a person, you can use classification to determine whether or not a person would be a loan defaulter. \n",
    "When the supervised learning algorithm labels input data into two distinct classes, it is called binary classification. \n",
    "Multiple classifications means categorizing data into more than two classes.\n",
    "\n",
    "3. Naive Bayesian Model:\n",
    "    \n",
    "The Bayesian model of classification is used for large finite datasets. \n",
    "It is a method of assigning class labels using a direct acyclic graph. \n",
    "The graph comprises one parent node and multiple children nodes. \n",
    "And each child node is assumed to be independent and separate from the parent. \n",
    "\n",
    "Decision Trees:\n",
    "\n",
    "A decision tree is a flowchart-like model that contains conditional control statements, comprising decisions and their probable consequences. \n",
    "The output relates to the labelling of unforeseen data. \n",
    "\n",
    "In the tree representation, the leaf nodes correspond to class labels, and the internal nodes represent the attributes. \n",
    "A decision tree can be used to solve problems with discrete attributes as well as boolean functions. \n",
    "Some of the notable decision tree algorithms are ID3 and CART.\n",
    "\n",
    "4. Random Forest Model:\n",
    "    \n",
    "The random forest model is an ensemble method. It operates by constructing a multitude of decision trees and outputs a classification of the individual trees.\n",
    "Suppose you want to predict which undergraduate students will perform well in GMAT – a test taken for admission into graduate management programs. \n",
    "A random forest model would accomplish the task, given the demographic and educational factors of a set of students who have previously taken the test. \n",
    "\n",
    "5. Neural Networks:\n",
    "    \n",
    "This algorithm is designed to cluster raw input, recognize patterns, or interpret sensory data. \n",
    "Despite their multiple advantages, neural networks require significant computational resources.\n",
    "It can get complicated to fit a neural network when there are thousands of observations.\n",
    "It is also called the ‘black-box’ algorithm as interpreting the logic behind their predictions can be challenging. \n",
    "\n",
    "\n",
    "6. Support Vector Machines:\n",
    "    \n",
    "Support Vector Machine (SVM) is a supervised learning algorithm developed in the year 1990.\n",
    "It draws from the statistical learning theory developed by Vap Nick. \n",
    "\n",
    "SVM separates hyperplanes, which makes it a discriminative classifier. \n",
    "The output is produced in the form of an optimal hyperplane that categorizes new examples. \n",
    "SVMs are closely connected to the kernel framework and used in diverse fields.\n",
    "Some examples include bioinformatics, pattern recognition, and multimedia information retrieval.\n",
    "\n"
   ]
  },
  {
   "cell_type": "markdown",
   "metadata": {},
   "source": [
    "#### 9. What is the difference between supervised and unsupervised learning? With a sample application in each region, explain the differences."
   ]
  },
  {
   "cell_type": "code",
   "execution_count": null,
   "metadata": {},
   "outputs": [],
   "source": [
    "Ans:\n",
    "\n",
    "Difference:\n",
    "    IN supervised learning we know both input and ouput features. but in unsupervised learning we only know the input features.\n",
    "\n",
    "example:\n",
    "    in supervised learning.... using the calssification algorithm we make a calssifier with cat and dog datasets where the the label is known(dog,cat) which can differecnces between cat and dog.\n",
    "    \n",
    "    in unsupersed learning.... using the k-means clustering algorithm we make segmentation of people for a company where the output label unknown."
   ]
  },
  {
   "cell_type": "markdown",
   "metadata": {},
   "source": [
    "#### 10. Describe the machine learning process in depth.\n",
    "#### a. Make brief notes on any two of the following:\n",
    "\n",
    "#### MATLAB is one of the most widely used programming languages.\n",
    "### ii. Deep learning applications in healthcare\n",
    "\n",
    "#### iii. Study of the market basket\n",
    "\n",
    "#### iv. Linear regression (simple)"
   ]
  },
  {
   "cell_type": "code",
   "execution_count": null,
   "metadata": {},
   "outputs": [],
   "source": [
    "Ans:\n",
    "\n",
    "ii>\n",
    "Deep learning applications in healthcare:\n",
    "     \n",
    "Deep learning is assisting medical professionals and researchers to discover the hidden opportunities in data and to serve the healthcare industry better. \n",
    "ANN and CNN architechture in medical science gives health care system a new path.\n",
    "Deep learning in healthcare provides doctors the analysis of any disease accurately and helps them treat them better, thus resulting in better medical decisions.\n",
    "\n",
    "example:\n",
    "    \n",
    "Medical imaging\n",
    "Medical imaging techniques such as MRI scans, CT scans, ECG, are used to diagnose dreadful diseases such as heart disease, cancer, brain tumor. \n",
    "Hence, deep learning helps doctors to analyze the disease better and provide patients with the best treatment.\n",
    "\n",
    "iv>\n",
    "Linear regression(simple):\n",
    "\n",
    "Simple linear regression have only one input features and one output label.\n",
    "The relationship shown by a Simple Linear Regression model is linear or a sloped straight line, hence it is called Simple Linear Regression.\n",
    "The key point in Simple Linear Regression is that the dependent variable must be a continuous.\n",
    "\n",
    "example:\n",
    "    \n",
    "Model the relationship between the two variables. Such as the relationship between Income and expenditure, experience and Salary, etc.\n",
    "Forecasting new observations. Such as Weather forecasting according to temperature, Revenue of a company according to the investments in a year, etc."
   ]
  },
  {
   "cell_type": "markdown",
   "metadata": {},
   "source": [
    "#### 11. Make a comparison between:-\n",
    "\n",
    "#### 1. Generalization and abstraction\n",
    "\n",
    "#### 2. Learning that is guided and unsupervised\n",
    "\n",
    "#### 3. Regression and classification"
   ]
  },
  {
   "cell_type": "code",
   "execution_count": null,
   "metadata": {},
   "outputs": [],
   "source": [
    "1. Generalization and abstraction:\n",
    "    in machine learning model....\n",
    "    While abstraction reduces complexity by hiding irrelevant detail,\n",
    "    generalization reduces complexity by replacing multiple entities which perform similar functions with a single construct.\n",
    "    \n",
    "2. Learning that is guided and unsupervised:\n",
    "    learning that is guided refers we can know how the ouput looks like.\n",
    "    but in unsupervised leaning we don't know the ouput.\n",
    "    \n",
    "3. Regression and classification:\n",
    "     classification is about predicting a label and regression is about predicting a quantity."
   ]
  }
 ],
 "metadata": {
  "kernelspec": {
   "display_name": "Python 3",
   "language": "python",
   "name": "python3"
  },
  "language_info": {
   "codemirror_mode": {
    "name": "ipython",
    "version": 3
   },
   "file_extension": ".py",
   "mimetype": "text/x-python",
   "name": "python",
   "nbconvert_exporter": "python",
   "pygments_lexer": "ipython3",
   "version": "3.8.5"
  }
 },
 "nbformat": 4,
 "nbformat_minor": 4
}
