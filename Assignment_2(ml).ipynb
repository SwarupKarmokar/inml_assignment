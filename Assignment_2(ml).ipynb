{
 "cells": [
  {
   "cell_type": "markdown",
   "metadata": {},
   "source": [
    "# Assignment_2:"
   ]
  },
  {
   "cell_type": "markdown",
   "metadata": {},
   "source": [
    "#### 1. What is the concept of human learning? Please give two examples."
   ]
  },
  {
   "cell_type": "code",
   "execution_count": null,
   "metadata": {},
   "outputs": [],
   "source": [
    "Ans:\n",
    "    concept of human learning is to acquiring knowledge.\n",
    "    example: \n",
    "        1. human learn something by copying or seeing other thing kind of naming term(we learn that the word dog refers to a particular animal).\n",
    "        2. human learn something by experiencing something(if somthing hurt us we remember the mistake for next time)."
   ]
  },
  {
   "cell_type": "markdown",
   "metadata": {},
   "source": [
    "#### 2. What different forms of human learning are there? Are there any machine learning equivalents?"
   ]
  },
  {
   "cell_type": "code",
   "execution_count": null,
   "metadata": {},
   "outputs": [],
   "source": [
    "Ans:\n",
    "    forms of human learning:\n",
    "        1. Behaviorism.\n",
    "        2. Classical Conditioning\n",
    "        3. Operant Conditioning\n",
    "        4. Observational Learning.\n",
    "        \n",
    "    machine learning equivalent:\n",
    "        Transfer learning."
   ]
  },
  {
   "cell_type": "markdown",
   "metadata": {},
   "source": [
    "#### 3. What is machine learning, and how does it work? What are the key responsibilities of machine learning?"
   ]
  },
  {
   "cell_type": "code",
   "execution_count": null,
   "metadata": {},
   "outputs": [],
   "source": [
    "Ans:\n",
    "    machine learning is the method of data analysis.\n",
    "    machine learning work to find the hidden pattern inside the data thats automates analytical model building.\n",
    "    responsiblity:\n",
    "        1.Study and transform data science prototypes\n",
    "        2.Design machine learning systems\n",
    "        3.Research and implement appropriate ML algorithms and tools\n",
    "        4.Develop machine learning applications according to requirements\n",
    "        5.Select appropriate datasets and data representation methods\n",
    "        6.Run machine learning tests and experiments\n",
    "        7.Perform statistical analysis and fine-tuning using test results\n",
    "        8.Train and retrain systems when necessary\n",
    "        9.Extend existing ML libraries and frameworks\n",
    "        10.Keep abreast of developments in the field"
   ]
  },
  {
   "cell_type": "markdown",
   "metadata": {},
   "source": [
    "#### 4. Define the terms &quot;penalty&quot; and &quot;reward&quot; in the context of reinforcement learning."
   ]
  },
  {
   "cell_type": "code",
   "execution_count": null,
   "metadata": {},
   "outputs": [],
   "source": [
    "Ans:\n",
    "    penalty:\n",
    "        The penalty is the sum of the absolute values of weights in regulization method in machine learning.\n",
    "    reward:\n",
    "        reward is the identity of a machine learning model how much accurate it is of decision making."
   ]
  },
  {
   "cell_type": "markdown",
   "metadata": {},
   "source": [
    "#### 5. Explain the term &quot;learning as a search&quot;?"
   ]
  },
  {
   "cell_type": "code",
   "execution_count": null,
   "metadata": {},
   "outputs": [],
   "source": []
  },
  {
   "cell_type": "markdown",
   "metadata": {},
   "source": [
    "#### 6. What are the various goals of machine learning? What is the relationship between these and human learning?"
   ]
  },
  {
   "cell_type": "code",
   "execution_count": null,
   "metadata": {},
   "outputs": [],
   "source": [
    "Ans:\n",
    "    goals:\n",
    "        1.finding best algorithm pattern which help to wide range of problems.\n",
    "        2.make the model accurate as much as possible.\n",
    "        3.develop general-purpose algorithms in practical value.\n",
    "        4.helps to overcome real world problems.\n",
    "    \n",
    "    relationship:\n",
    "        Humans acquire knowledge through experience either directly or shared by others. \n",
    "        Machines acquire knowledge through experience shared in the form of past data."
   ]
  },
  {
   "cell_type": "markdown",
   "metadata": {},
   "source": [
    "#### 7. Illustrate the various elements of machine learning using a real-life illustration."
   ]
  },
  {
   "cell_type": "code",
   "execution_count": null,
   "metadata": {},
   "outputs": [],
   "source": [
    "Ans:\n",
    "    1.As like human we also give data to the machine learning model.\n",
    "    2.we cleaning the data and preprocessing for the machine learning model. like we deside what knowledge is best for human.\n",
    "    3.we make train test split for training and testing the model like we teach human with some data then testing with other data.\n",
    "    4.we check our model how much accurate it is like we check human whats they learn."
   ]
  },
  {
   "cell_type": "markdown",
   "metadata": {},
   "source": [
    "#### 8. Provide an example of the abstraction method."
   ]
  },
  {
   "cell_type": "code",
   "execution_count": null,
   "metadata": {},
   "outputs": [],
   "source": [
    "Ans:\n",
    "from abc import ABC, abstractmethod\n",
    "class Animal(ABC):\n",
    " \n",
    "    def move(self):\n",
    "        pass\n",
    " \n",
    "class Human(Animal):\n",
    " \n",
    "    def move(self):\n",
    "        print(\"I can walk and run\")"
   ]
  },
  {
   "cell_type": "markdown",
   "metadata": {},
   "source": [
    "#### 9. What is the concept of generalization? What function does it play in the machine learning process?"
   ]
  },
  {
   "cell_type": "code",
   "execution_count": null,
   "metadata": {},
   "outputs": [],
   "source": [
    "Ans:\n",
    "    generalization is the process to to validate our machine learning model with new data.\n",
    "    \n",
    "    function:\n",
    "        in machine learning our validation loss is higher than training loss.......\n",
    "        if validation loss of all unseen data is going to higher to higher by time our model behave very baadly.\n",
    "        for maintaining all the validation loss with training loss we generalize the validation loss by improving model learning rate. "
   ]
  },
  {
   "cell_type": "markdown",
   "metadata": {},
   "source": [
    "#### 10.What is classification, exactly? What are the main distinctions between classification and regression?"
   ]
  },
  {
   "cell_type": "code",
   "execution_count": null,
   "metadata": {},
   "outputs": [],
   "source": [
    "Ans:\n",
    "    Classification means arranging the mass of data into different classes or groups on the basis of their similarities.\n",
    "    distinctions:\n",
    "        in case of classification we know the outcome is going to be True or False its not a continueous learning process.\n",
    "        in case of regression we don't know the outcome because its a contineous learning process."
   ]
  },
  {
   "cell_type": "markdown",
   "metadata": {},
   "source": [
    "#### 11. What is regression, and how does it work? Give an example of a real-world problem that was solved using regression."
   ]
  },
  {
   "cell_type": "code",
   "execution_count": null,
   "metadata": {},
   "outputs": [],
   "source": [
    "Ans:\n",
    "    Regression is a statistical method used in machine learning to find the  relationship between one dependent variable (usually denoted by Y) and a series of other variables (known as independent variables).\n",
    "    example:\n",
    "        using linear regression we can predict the house pricing."
   ]
  },
  {
   "cell_type": "markdown",
   "metadata": {},
   "source": [
    "#### 12. Describe the clustering mechanism in detail."
   ]
  },
  {
   "cell_type": "code",
   "execution_count": null,
   "metadata": {},
   "outputs": [],
   "source": [
    "Ans:\n",
    "    clustering is the part of unsupervised learning...\n",
    "    when we dont have any label for data we create cluster using machine learning is the basis of input features similarity."
   ]
  },
  {
   "cell_type": "markdown",
   "metadata": {},
   "source": [
    "#### 13. Make brief observations on two of the following topics:\n",
    "\n",
    "#### i. Machine learning algorithms are used\n",
    "#### ii. Studying under supervision\n",
    "#### iii. Studying without supervision\n",
    "\n",
    "iv. Reinforcement learning is a form of learning based on positive reinforcement."
   ]
  },
  {
   "cell_type": "code",
   "execution_count": null,
   "metadata": {},
   "outputs": [],
   "source": [
    "Ans:\n",
    "    i> \n",
    "    Machine learning algorithms are used to find the hidden insight of data for getting the best outcome of our data...\n",
    "    if any machine learning algorithms provides good results we used them in various kind of real world work\n",
    "    like---->1.prediction pricing 2.speach recognition 3.recommender system 4.health care system.\n",
    "    \n",
    "    iv>\n",
    "    Reinforcement learning is an area of Machine Learning. \n",
    "    It is about taking suitable action to maximize reward in a particular situation.\n",
    "    It is employed by various software and machines to find the best possible behavior or path it should take in a specific situation. \n",
    "    Reinforcement learning differs from the supervised learning in a way that in supervised learning the training data has the answer key with it so the model is trained with the correct answer itself whereas in reinforcement learning, there is no answer but the reinforcement agent decides what to do to perform the given task. \n",
    "    In the absence of a training dataset, it is bound to learn from its experience."
   ]
  }
 ],
 "metadata": {
  "kernelspec": {
   "display_name": "Python 3",
   "language": "python",
   "name": "python3"
  },
  "language_info": {
   "codemirror_mode": {
    "name": "ipython",
    "version": 3
   },
   "file_extension": ".py",
   "mimetype": "text/x-python",
   "name": "python",
   "nbconvert_exporter": "python",
   "pygments_lexer": "ipython3",
   "version": "3.8.5"
  }
 },
 "nbformat": 4,
 "nbformat_minor": 4
}
